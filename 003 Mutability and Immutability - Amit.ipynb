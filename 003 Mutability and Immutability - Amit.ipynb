{
 "cells": [
  {
   "cell_type": "code",
   "execution_count": 1,
   "id": "43472ca8-c3b5-44ca-8f8e-52d235627c55",
   "metadata": {},
   "outputs": [],
   "source": [
    "a = 'amit'"
   ]
  },
  {
   "cell_type": "code",
   "execution_count": 2,
   "id": "250d59b0-f4d8-4a91-80a4-d78fadba2a5b",
   "metadata": {},
   "outputs": [
    {
     "data": {
      "text/plain": [
       "str"
      ]
     },
     "execution_count": 2,
     "metadata": {},
     "output_type": "execute_result"
    }
   ],
   "source": [
    "type(a)"
   ]
  },
  {
   "cell_type": "code",
   "execution_count": 3,
   "id": "54bc7642-e5a7-4299-9b91-ef728e04a3f9",
   "metadata": {},
   "outputs": [],
   "source": [
    "a1 = \"amitkumar\""
   ]
  },
  {
   "cell_type": "code",
   "execution_count": 4,
   "id": "8128361e-8cc2-4cf5-a1e7-11176478e42f",
   "metadata": {},
   "outputs": [
    {
     "data": {
      "text/plain": [
       "str"
      ]
     },
     "execution_count": 4,
     "metadata": {},
     "output_type": "execute_result"
    }
   ],
   "source": [
    "type(a1)"
   ]
  },
  {
   "cell_type": "code",
   "execution_count": 19,
   "id": "b1404b26-c38a-4bdc-92b9-a5439e43bd3b",
   "metadata": {},
   "outputs": [
    {
     "data": {
      "text/plain": [
       "'i'"
      ]
     },
     "execution_count": 19,
     "metadata": {},
     "output_type": "execute_result"
    }
   ],
   "source": [
    "a[2]"
   ]
  },
  {
   "cell_type": "code",
   "execution_count": 21,
   "id": "cd18c4d7-76a4-4d98-8ecf-b4d4d3dfcd10",
   "metadata": {},
   "outputs": [
    {
     "data": {
      "text/plain": [
       "'t'"
      ]
     },
     "execution_count": 21,
     "metadata": {},
     "output_type": "execute_result"
    }
   ],
   "source": [
    "a[-1]"
   ]
  },
  {
   "cell_type": "code",
   "execution_count": 28,
   "id": "5a08f311-e6d9-48c6-8325-8675839e1d2a",
   "metadata": {},
   "outputs": [],
   "source": [
    "b = [2, 3, 4, 5, 'amit' , 3+5j , True , 45.765] "
   ]
  },
  {
   "cell_type": "code",
   "execution_count": 29,
   "id": "ad267010-8408-4a2b-993d-0256712990ce",
   "metadata": {},
   "outputs": [
    {
     "data": {
      "text/plain": [
       "[2, 3, 4, 5, 'amit', (3+5j), True, 45.765]"
      ]
     },
     "execution_count": 29,
     "metadata": {},
     "output_type": "execute_result"
    }
   ],
   "source": [
    "b"
   ]
  },
  {
   "cell_type": "code",
   "execution_count": 30,
   "id": "e4ca51a4-a2fd-4df3-893c-b708acf0f9aa",
   "metadata": {},
   "outputs": [
    {
     "data": {
      "text/plain": [
       "list"
      ]
     },
     "execution_count": 30,
     "metadata": {},
     "output_type": "execute_result"
    }
   ],
   "source": [
    "type(b)"
   ]
  },
  {
   "cell_type": "code",
   "execution_count": 31,
   "id": "ad23c2b1-bf8c-4b29-80e9-3a386579ed63",
   "metadata": {},
   "outputs": [],
   "source": [
    "b[3] = 300"
   ]
  },
  {
   "cell_type": "code",
   "execution_count": 32,
   "id": "8f777a28-b1d3-4904-9a14-3c92cef2ac00",
   "metadata": {},
   "outputs": [
    {
     "data": {
      "text/plain": [
       "[2, 3, 4, 300, 'amit', (3+5j), True, 45.765]"
      ]
     },
     "execution_count": 32,
     "metadata": {},
     "output_type": "execute_result"
    }
   ],
   "source": [
    "b"
   ]
  },
  {
   "cell_type": "code",
   "execution_count": 34,
   "id": "37536311-7815-4843-80fd-b844fa8edaf7",
   "metadata": {},
   "outputs": [],
   "source": [
    "b[4] = \"amitkumar\""
   ]
  },
  {
   "cell_type": "code",
   "execution_count": 35,
   "id": "e4ca9648-17df-4d7f-96ab-9d695dce35fd",
   "metadata": {},
   "outputs": [
    {
     "data": {
      "text/plain": [
       "[2, 3, 4, 300, 'amitkumar', (3+5j), True, 45.765]"
      ]
     },
     "execution_count": 35,
     "metadata": {},
     "output_type": "execute_result"
    }
   ],
   "source": [
    "b"
   ]
  },
  {
   "cell_type": "code",
   "execution_count": null,
   "id": "ae8b94b3-7cce-4b6a-b2cd-4e207a294f8c",
   "metadata": {},
   "outputs": [],
   "source": []
  }
 ],
 "metadata": {
  "kernelspec": {
   "display_name": "Python 3 (ipykernel)",
   "language": "python",
   "name": "python3"
  },
  "language_info": {
   "codemirror_mode": {
    "name": "ipython",
    "version": 3
   },
   "file_extension": ".py",
   "mimetype": "text/x-python",
   "name": "python",
   "nbconvert_exporter": "python",
   "pygments_lexer": "ipython3",
   "version": "3.10.8"
  }
 },
 "nbformat": 4,
 "nbformat_minor": 5
}
