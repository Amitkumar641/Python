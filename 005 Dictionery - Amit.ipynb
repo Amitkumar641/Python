{
 "cells": [
  {
   "cell_type": "code",
   "execution_count": 1,
   "id": "cefc3886-ad82-457a-8701-d9d5cf5006aa",
   "metadata": {},
   "outputs": [],
   "source": [
    "d = {}"
   ]
  },
  {
   "cell_type": "code",
   "execution_count": 2,
   "id": "2e7b64a1-24e0-4875-ae2f-e46bb2addfce",
   "metadata": {},
   "outputs": [
    {
     "data": {
      "text/plain": [
       "dict"
      ]
     },
     "execution_count": 2,
     "metadata": {},
     "output_type": "execute_result"
    }
   ],
   "source": [
    "type(d)"
   ]
  },
  {
   "cell_type": "code",
   "execution_count": 3,
   "id": "c103e5ee-c412-47cb-915e-0f9ca383ce27",
   "metadata": {},
   "outputs": [],
   "source": [
    "# key could be anything\n",
    "\n",
    "d1 = {'key' : \"amit\"}"
   ]
  },
  {
   "cell_type": "code",
   "execution_count": 4,
   "id": "a746f00f-582f-4ba6-9044-3e94bc5835d9",
   "metadata": {},
   "outputs": [
    {
     "data": {
      "text/plain": [
       "{'key': 'amit'}"
      ]
     },
     "execution_count": 4,
     "metadata": {},
     "output_type": "execute_result"
    }
   ],
   "source": [
    "d1"
   ]
  },
  {
   "cell_type": "code",
   "execution_count": 5,
   "id": "fa4e7d2c-deee-4300-8e50-cf2766b24a3e",
   "metadata": {},
   "outputs": [],
   "source": [
    "d2 = {\"name\" : \"Amit\", \"email\" : \"amitkumar641@gmail.com\", 'number' : \"9999494440\"}"
   ]
  },
  {
   "cell_type": "code",
   "execution_count": 6,
   "id": "1a92f8c9-c4ff-4e1c-93b1-2055ce1ec8d2",
   "metadata": {},
   "outputs": [
    {
     "data": {
      "text/plain": [
       "{'name': 'Amit', 'email': 'amitkumar641@gmail.com', 'number': '9999494440'}"
      ]
     },
     "execution_count": 6,
     "metadata": {},
     "output_type": "execute_result"
    }
   ],
   "source": [
    "d2"
   ]
  },
  {
   "cell_type": "code",
   "execution_count": 13,
   "id": "9f8dccd1-e38f-4b60-9504-eec5669d44cd",
   "metadata": {},
   "outputs": [],
   "source": [
    "d3 = {234 : \"amit\", '_wer' : \"sumit\", True : 2345432}"
   ]
  },
  {
   "cell_type": "code",
   "execution_count": 14,
   "id": "4d3780fc-4646-430b-a1bc-077837cdcc6b",
   "metadata": {},
   "outputs": [
    {
     "data": {
      "text/plain": [
       "{234: 'amit', '_wer': 'sumit', True: 2345432}"
      ]
     },
     "execution_count": 14,
     "metadata": {},
     "output_type": "execute_result"
    }
   ],
   "source": [
    "d3"
   ]
  },
  {
   "cell_type": "code",
   "execution_count": 15,
   "id": "96c5e3d0-3829-4616-8829-f065b291fa72",
   "metadata": {},
   "outputs": [
    {
     "data": {
      "text/plain": [
       "'amit'"
      ]
     },
     "execution_count": 15,
     "metadata": {},
     "output_type": "execute_result"
    }
   ],
   "source": [
    "# kisi value ko nikalne ke liye index ki jagha key dena hoga\n",
    "\n",
    "d3[234]"
   ]
  },
  {
   "cell_type": "code",
   "execution_count": 17,
   "id": "ef37a2c2-613a-4731-808c-ceba1a2b8d32",
   "metadata": {},
   "outputs": [
    {
     "data": {
      "text/plain": [
       "'sumit'"
      ]
     },
     "execution_count": 17,
     "metadata": {},
     "output_type": "execute_result"
    }
   ],
   "source": [
    "d3[\"_wer\"]"
   ]
  },
  {
   "cell_type": "code",
   "execution_count": 18,
   "id": "9465a0de-7dc2-4952-bd59-50e9f0a8586e",
   "metadata": {},
   "outputs": [
    {
     "data": {
      "text/plain": [
       "2345432"
      ]
     },
     "execution_count": 18,
     "metadata": {},
     "output_type": "execute_result"
    }
   ],
   "source": [
    "d3[1]"
   ]
  },
  {
   "cell_type": "code",
   "execution_count": 19,
   "id": "f5174885-a56b-471c-8238-2e2b09d7c198",
   "metadata": {},
   "outputs": [
    {
     "ename": "KeyError",
     "evalue": "2",
     "output_type": "error",
     "traceback": [
      "\u001b[0;31m---------------------------------------------------------------------------\u001b[0m",
      "\u001b[0;31mKeyError\u001b[0m                                  Traceback (most recent call last)",
      "Cell \u001b[0;32mIn[19], line 1\u001b[0m\n\u001b[0;32m----> 1\u001b[0m \u001b[43md3\u001b[49m\u001b[43m[\u001b[49m\u001b[38;5;241;43m2\u001b[39;49m\u001b[43m]\u001b[49m\n",
      "\u001b[0;31mKeyError\u001b[0m: 2"
     ]
    }
   ],
   "source": [
    "d3[2]"
   ]
  },
  {
   "cell_type": "code",
   "execution_count": 21,
   "id": "482150a9-65bb-4324-adc4-f3312f67e300",
   "metadata": {},
   "outputs": [],
   "source": [
    "# key should always be unique\n",
    "\n",
    "d4 = {'name' : 'amit', 'mail_id' : \"amyth4d@gmail,com\", \"name\" : \"amit kumar\"}"
   ]
  },
  {
   "cell_type": "code",
   "execution_count": 22,
   "id": "d44db9de-fbff-4296-adc1-d1949f1a2ac4",
   "metadata": {},
   "outputs": [
    {
     "data": {
      "text/plain": [
       "'amit kumar'"
      ]
     },
     "execution_count": 22,
     "metadata": {},
     "output_type": "execute_result"
    }
   ],
   "source": [
    "d4['name']"
   ]
  },
  {
   "cell_type": "code",
   "execution_count": 1,
   "id": "a5bd46db-6a3d-4e02-b1ac-c9514e2c4b9e",
   "metadata": {},
   "outputs": [],
   "source": [
    "d5 = {\"company\" : \"pwskills\" , \"course\" : [\"web dev\" , \"data science\" , \"java with DSA system design\"]} "
   ]
  },
  {
   "cell_type": "code",
   "execution_count": 3,
   "id": "e378e5f0-2747-4554-98ce-45ff242de5ba",
   "metadata": {},
   "outputs": [
    {
     "data": {
      "text/plain": [
       "{'company': 'pwskills',\n",
       " 'course': ['web dev', 'data science', 'java with DSA system design']}"
      ]
     },
     "execution_count": 3,
     "metadata": {},
     "output_type": "execute_result"
    }
   ],
   "source": [
    "d5"
   ]
  },
  {
   "cell_type": "code",
   "execution_count": 5,
   "id": "d22e06e8-d6b2-4738-9276-ca171c3b97a6",
   "metadata": {},
   "outputs": [
    {
     "data": {
      "text/plain": [
       "['web dev', 'data science', 'java with DSA system design']"
      ]
     },
     "execution_count": 5,
     "metadata": {},
     "output_type": "execute_result"
    }
   ],
   "source": [
    "d5['course']"
   ]
  },
  {
   "cell_type": "code",
   "execution_count": 7,
   "id": "f0097883-6924-4261-ad3c-1f56e40c22fe",
   "metadata": {},
   "outputs": [
    {
     "data": {
      "text/plain": [
       "'java with DSA system design'"
      ]
     },
     "execution_count": 7,
     "metadata": {},
     "output_type": "execute_result"
    }
   ],
   "source": [
    "d5['course'][2]"
   ]
  },
  {
   "cell_type": "code",
   "execution_count": 10,
   "id": "8a1b3918-9808-4ae0-b3a3-cac59642bd0b",
   "metadata": {},
   "outputs": [],
   "source": [
    "d6 = {\"number\" : [2,34,3,34] , \"assignment\" : (1,2,3,4,56), \"launch_date\" : {28,12,14} , \"class_timing\" : {\"wed_dev\" : 8 , \"data_scince master\" : 7, \"java with DSA and system design\" : 6} }  "
   ]
  },
  {
   "cell_type": "code",
   "execution_count": 11,
   "id": "15599e44-0434-478f-87ee-c80ac8a599cc",
   "metadata": {},
   "outputs": [
    {
     "data": {
      "text/plain": [
       "{'number': [2, 34, 3, 34],\n",
       " 'assignment': (1, 2, 3, 4, 56),\n",
       " 'launch_date': {12, 14, 28},\n",
       " 'class_timing': {'wed_dev': 8,\n",
       "  'data_scince master': 7,\n",
       "  'java with DSA and system design': 6}}"
      ]
     },
     "execution_count": 11,
     "metadata": {},
     "output_type": "execute_result"
    }
   ],
   "source": [
    "d6"
   ]
  },
  {
   "cell_type": "code",
   "execution_count": 16,
   "id": "b41bc943-76cf-4ad5-aa4d-9fd710e590cd",
   "metadata": {},
   "outputs": [
    {
     "data": {
      "text/plain": [
       "6"
      ]
     },
     "execution_count": 16,
     "metadata": {},
     "output_type": "execute_result"
    }
   ],
   "source": [
    "d6[\"class_timing\"][\"java with DSA and system design\"]"
   ]
  },
  {
   "cell_type": "code",
   "execution_count": 17,
   "id": "97cd225a-ea64-44cd-b86a-5d081d437e14",
   "metadata": {},
   "outputs": [
    {
     "data": {
      "text/plain": [
       "3"
      ]
     },
     "execution_count": 17,
     "metadata": {},
     "output_type": "execute_result"
    }
   ],
   "source": [
    "d6['assignment'][2]"
   ]
  },
  {
   "cell_type": "code",
   "execution_count": 18,
   "id": "36fe21dd-a5a6-4af3-8382-cbc4e3563973",
   "metadata": {},
   "outputs": [
    {
     "data": {
      "text/plain": [
       "3"
      ]
     },
     "execution_count": 18,
     "metadata": {},
     "output_type": "execute_result"
    }
   ],
   "source": [
    "d6['number'][2]"
   ]
  },
  {
   "cell_type": "code",
   "execution_count": 19,
   "id": "1996f608-3487-4580-b1ee-947336a69af1",
   "metadata": {},
   "outputs": [
    {
     "data": {
      "text/plain": [
       "{'number': [2, 34, 3, 34],\n",
       " 'assignment': (1, 2, 3, 4, 56),\n",
       " 'launch_date': {12, 14, 28},\n",
       " 'class_timing': {'wed_dev': 8,\n",
       "  'data_scince master': 7,\n",
       "  'java with DSA and system design': 6}}"
      ]
     },
     "execution_count": 19,
     "metadata": {},
     "output_type": "execute_result"
    }
   ],
   "source": [
    "d6"
   ]
  },
  {
   "cell_type": "code",
   "execution_count": 21,
   "id": "d713408d-ecbb-4b8a-84c4-c575919bc44c",
   "metadata": {},
   "outputs": [],
   "source": [
    "# Add a new key\n",
    "\n",
    "d6['mento'] = [\"sudhanshu\", \"Krish\", \"anurag\", \"hayder\"]"
   ]
  },
  {
   "cell_type": "code",
   "execution_count": 22,
   "id": "b4b87e23-3358-4154-8c99-8fe78a068f2c",
   "metadata": {},
   "outputs": [
    {
     "data": {
      "text/plain": [
       "{'number': [2, 34, 3, 34],\n",
       " 'assignment': (1, 2, 3, 4, 56),\n",
       " 'launch_date': {12, 14, 28},\n",
       " 'class_timing': {'wed_dev': 8,\n",
       "  'data_scince master': 7,\n",
       "  'java with DSA and system design': 6},\n",
       " 'mento': ['sudhanshu', 'Krish', 'anurag', 'hayder']}"
      ]
     },
     "execution_count": 22,
     "metadata": {},
     "output_type": "execute_result"
    }
   ],
   "source": [
    "d6"
   ]
  },
  {
   "cell_type": "code",
   "execution_count": 23,
   "id": "94cdad01-1d3f-4cd4-9086-ef63e9c10886",
   "metadata": {},
   "outputs": [],
   "source": [
    "# delete a key\n",
    "\n",
    "del d6[\"number\"]"
   ]
  },
  {
   "cell_type": "code",
   "execution_count": 24,
   "id": "75b6007a-34fe-41b9-8124-3a901845ec21",
   "metadata": {},
   "outputs": [
    {
     "data": {
      "text/plain": [
       "{'assignment': (1, 2, 3, 4, 56),\n",
       " 'launch_date': {12, 14, 28},\n",
       " 'class_timing': {'wed_dev': 8,\n",
       "  'data_scince master': 7,\n",
       "  'java with DSA and system design': 6},\n",
       " 'mento': ['sudhanshu', 'Krish', 'anurag', 'hayder']}"
      ]
     },
     "execution_count": 24,
     "metadata": {},
     "output_type": "execute_result"
    }
   ],
   "source": [
    "d6"
   ]
  },
  {
   "cell_type": "code",
   "execution_count": 28,
   "id": "f3eb4f7e-67cf-4c7a-bb1f-89df2745486a",
   "metadata": {},
   "outputs": [
    {
     "data": {
      "text/plain": [
       "dict_keys(['assignment', 'launch_date', 'class_timing', 'mento'])"
      ]
     },
     "execution_count": 28,
     "metadata": {},
     "output_type": "execute_result"
    }
   ],
   "source": [
    "d6.keys()"
   ]
  },
  {
   "cell_type": "code",
   "execution_count": 29,
   "id": "6daeb8b8-03e0-4eaf-ae3c-11df76d1bcd6",
   "metadata": {},
   "outputs": [
    {
     "data": {
      "text/plain": [
       "dict_values([(1, 2, 3, 4, 56), {28, 12, 14}, {'wed_dev': 8, 'data_scince master': 7, 'java with DSA and system design': 6}, ['sudhanshu', 'Krish', 'anurag', 'hayder']])"
      ]
     },
     "execution_count": 29,
     "metadata": {},
     "output_type": "execute_result"
    }
   ],
   "source": [
    "d6.values()"
   ]
  },
  {
   "cell_type": "code",
   "execution_count": 30,
   "id": "7a239614-caa7-488f-ae18-33d9b7e33cc2",
   "metadata": {},
   "outputs": [
    {
     "data": {
      "text/plain": [
       "dict_items([('assignment', (1, 2, 3, 4, 56)), ('launch_date', {28, 12, 14}), ('class_timing', {'wed_dev': 8, 'data_scince master': 7, 'java with DSA and system design': 6}), ('mento', ['sudhanshu', 'Krish', 'anurag', 'hayder'])])"
      ]
     },
     "execution_count": 30,
     "metadata": {},
     "output_type": "execute_result"
    }
   ],
   "source": [
    "d6.items()"
   ]
  },
  {
   "cell_type": "code",
   "execution_count": 31,
   "id": "5fa31926-267f-4c05-afe1-5c0f98e4cc14",
   "metadata": {},
   "outputs": [
    {
     "data": {
      "text/plain": [
       "[('assignment', (1, 2, 3, 4, 56)),\n",
       " ('launch_date', {12, 14, 28}),\n",
       " ('class_timing',\n",
       "  {'wed_dev': 8,\n",
       "   'data_scince master': 7,\n",
       "   'java with DSA and system design': 6}),\n",
       " ('mento', ['sudhanshu', 'Krish', 'anurag', 'hayder'])]"
      ]
     },
     "execution_count": 31,
     "metadata": {},
     "output_type": "execute_result"
    }
   ],
   "source": [
    "list(d6.items())"
   ]
  },
  {
   "cell_type": "code",
   "execution_count": 34,
   "id": "cf52db64-4e47-41c8-818d-44ca0beca599",
   "metadata": {},
   "outputs": [
    {
     "data": {
      "text/plain": [
       "(1, 2, 3, 4, 56)"
      ]
     },
     "execution_count": 34,
     "metadata": {},
     "output_type": "execute_result"
    }
   ],
   "source": [
    "# delete a key 2nd way\n",
    "\n",
    "d6.pop('assignment')"
   ]
  },
  {
   "cell_type": "code",
   "execution_count": 35,
   "id": "f9213259-d98d-4c44-8b93-944aa657bd32",
   "metadata": {},
   "outputs": [
    {
     "data": {
      "text/plain": [
       "{'launch_date': {12, 14, 28},\n",
       " 'class_timing': {'wed_dev': 8,\n",
       "  'data_scince master': 7,\n",
       "  'java with DSA and system design': 6},\n",
       " 'mento': ['sudhanshu', 'Krish', 'anurag', 'hayder']}"
      ]
     },
     "execution_count": 35,
     "metadata": {},
     "output_type": "execute_result"
    }
   ],
   "source": [
    "d6"
   ]
  },
  {
   "cell_type": "code",
   "execution_count": null,
   "id": "8e1de255-da61-4582-a359-452fb34bb93f",
   "metadata": {},
   "outputs": [],
   "source": []
  }
 ],
 "metadata": {
  "kernelspec": {
   "display_name": "Python 3 (ipykernel)",
   "language": "python",
   "name": "python3"
  },
  "language_info": {
   "codemirror_mode": {
    "name": "ipython",
    "version": 3
   },
   "file_extension": ".py",
   "mimetype": "text/x-python",
   "name": "python",
   "nbconvert_exporter": "python",
   "pygments_lexer": "ipython3",
   "version": "3.10.8"
  }
 },
 "nbformat": 4,
 "nbformat_minor": 5
}
