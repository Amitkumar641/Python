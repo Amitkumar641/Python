{
 "cells": [
  {
   "cell_type": "code",
   "execution_count": 2,
   "id": "68e6892a-2e35-44a6-8cb1-15a7605d3197",
   "metadata": {},
   "outputs": [],
   "source": [
    "a=10\n",
    "if a > 10 :\n",
    "    print(\"yes a is greater than 10\")"
   ]
  },
  {
   "cell_type": "code",
   "execution_count": 4,
   "id": "1ef3e909-1097-45eb-8ac0-03ddc757a5b2",
   "metadata": {},
   "outputs": [
    {
     "data": {
      "text/plain": [
       "False"
      ]
     },
     "execution_count": 4,
     "metadata": {},
     "output_type": "execute_result"
    }
   ],
   "source": [
    "a > 10"
   ]
  },
  {
   "cell_type": "code",
   "execution_count": 5,
   "id": "4e668f9d-f97b-4a5f-b58e-cf503710cf36",
   "metadata": {},
   "outputs": [
    {
     "name": "stdout",
     "output_type": "stream",
     "text": [
      "yes a is greater than 10\n"
     ]
    }
   ],
   "source": [
    "a=10\n",
    "if a >= 10 :\n",
    "    print(\"yes a is greater than 10\")"
   ]
  },
  {
   "cell_type": "code",
   "execution_count": 6,
   "id": "e5f121be-7bbb-4f90-8dc6-96e851b47803",
   "metadata": {},
   "outputs": [
    {
     "data": {
      "text/plain": [
       "True"
      ]
     },
     "execution_count": 6,
     "metadata": {},
     "output_type": "execute_result"
    }
   ],
   "source": [
    "a >= 10"
   ]
  },
  {
   "cell_type": "code",
   "execution_count": 13,
   "id": "e6d1ce9c-c1de-4e18-976e-9c4bbcd03b9c",
   "metadata": {},
   "outputs": [
    {
     "name": "stdout",
     "output_type": "stream",
     "text": [
      "yes b is greater than 30\n"
     ]
    }
   ],
   "source": [
    "b = 20\n",
    "if b > 30 : \n",
    "    print(\"yes b is greater thean 30\")\n",
    "elif b < 40 :\n",
    "    print(\"yes b is greater than 30\")\n",
    "else :\n",
    "    print(\"yes this is my defalt value\")"
   ]
  },
  {
   "cell_type": "code",
   "execution_count": 10,
   "id": "e2f6e41b-527f-4e74-af66-ab70f5a0956c",
   "metadata": {},
   "outputs": [
    {
     "data": {
      "text/plain": [
       "False"
      ]
     },
     "execution_count": 10,
     "metadata": {},
     "output_type": "execute_result"
    }
   ],
   "source": [
    "b > 30"
   ]
  },
  {
   "cell_type": "code",
   "execution_count": 11,
   "id": "5153f113-fadc-4e18-babf-22f654dd60e3",
   "metadata": {},
   "outputs": [
    {
     "data": {
      "text/plain": [
       "True"
      ]
     },
     "execution_count": 11,
     "metadata": {},
     "output_type": "execute_result"
    }
   ],
   "source": [
    "b<40"
   ]
  },
  {
   "cell_type": "code",
   "execution_count": 15,
   "id": "cede7eb3-8950-4d8b-b980-c5c29c1cc2e8",
   "metadata": {},
   "outputs": [
    {
     "name": "stdout",
     "output_type": "stream",
     "text": [
      "yes this is my defalt\n"
     ]
    }
   ],
   "source": [
    "c = 20\n",
    "if c > 30 : \n",
    "    print(\"yes c is greater thean 30\")\n",
    "elif c > 40 :\n",
    "    print(\"yes c is greater than 40\")\n",
    "elif c > 100 :\n",
    "    print(\"yes c is grater than 100\")\n",
    "else :\n",
    "    print(\"yes this is my defalt\")"
   ]
  },
  {
   "cell_type": "code",
   "execution_count": 19,
   "id": "3c9659cd-d1f2-4d3e-87cb-25da4a655f3e",
   "metadata": {},
   "outputs": [
    {
     "data": {
      "text/plain": [
       "False"
      ]
     },
     "execution_count": 19,
     "metadata": {},
     "output_type": "execute_result"
    }
   ],
   "source": [
    "c > 30"
   ]
  },
  {
   "cell_type": "code",
   "execution_count": 20,
   "id": "45bd173f-705a-4e70-92c1-4b2450e626e7",
   "metadata": {},
   "outputs": [
    {
     "data": {
      "text/plain": [
       "False"
      ]
     },
     "execution_count": 20,
     "metadata": {},
     "output_type": "execute_result"
    }
   ],
   "source": [
    "c > 40"
   ]
  },
  {
   "cell_type": "code",
   "execution_count": 21,
   "id": "b887c5df-9fcb-4ffc-a2e4-f87db0267c44",
   "metadata": {},
   "outputs": [
    {
     "data": {
      "text/plain": [
       "False"
      ]
     },
     "execution_count": 21,
     "metadata": {},
     "output_type": "execute_result"
    }
   ],
   "source": [
    "c > 100"
   ]
  },
  {
   "cell_type": "code",
   "execution_count": 22,
   "id": "23dfa785-eeb0-4af8-80a6-85c8a69e2383",
   "metadata": {},
   "outputs": [
    {
     "name": "stdin",
     "output_type": "stream",
     "text": [
      " 450\n"
     ]
    },
    {
     "data": {
      "text/plain": [
       "'450'"
      ]
     },
     "execution_count": 22,
     "metadata": {},
     "output_type": "execute_result"
    }
   ],
   "source": [
    "input()"
   ]
  },
  {
   "cell_type": "code",
   "execution_count": 23,
   "id": "1efc9f1a-1263-4dbb-ac3e-16fe112bda72",
   "metadata": {},
   "outputs": [
    {
     "name": "stdin",
     "output_type": "stream",
     "text": [
      " 450\n"
     ]
    },
    {
     "data": {
      "text/plain": [
       "450"
      ]
     },
     "execution_count": 23,
     "metadata": {},
     "output_type": "execute_result"
    }
   ],
   "source": [
    "int(input())"
   ]
  },
  {
   "cell_type": "code",
   "execution_count": 24,
   "id": "861d4b6b-54aa-4fe9-adef-4cdc37a5f87b",
   "metadata": {},
   "outputs": [
    {
     "data": {
      "text/plain": [
       "45"
      ]
     },
     "execution_count": 24,
     "metadata": {},
     "output_type": "execute_result"
    }
   ],
   "source": [
    "int ('45')"
   ]
  },
  {
   "cell_type": "code",
   "execution_count": 30,
   "id": "66c7c144-be7c-4dd9-b01d-2c0640443a6b",
   "metadata": {},
   "outputs": [
    {
     "name": "stdin",
     "output_type": "stream",
     "text": [
      " 10\n"
     ]
    },
    {
     "name": "stdout",
     "output_type": "stream",
     "text": [
      "yes this is my defalt\n"
     ]
    }
   ],
   "source": [
    "c = int(input())\n",
    "if c > 30 : \n",
    "    print(\"yes c is greater thean 40\")\n",
    "elif c > 40 :\n",
    "    print(\"yes c is greater than 30\")\n",
    "elif c > 100 :\n",
    "    print(\"yes c is grater than 100\")\n",
    "else :\n",
    "    print(\"yes this is my defalt\")"
   ]
  },
  {
   "cell_type": "raw",
   "id": "927a4b3f-2f86-4af4-8736-e2192f983f69",
   "metadata": {},
   "source": [
    "WHILE LOOP And FOR LOOP"
   ]
  },
  {
   "cell_type": "code",
   "execution_count": 1,
   "id": "0f36ab04-1698-4c72-8afe-7ebf2d77c0ed",
   "metadata": {},
   "outputs": [
    {
     "name": "stdout",
     "output_type": "stream",
     "text": [
      "1\n",
      "2\n",
      "3\n",
      "4\n",
      "5\n"
     ]
    }
   ],
   "source": [
    "n = 6\n",
    "i = 1\n",
    "while i < n :\n",
    "    print(i)\n",
    "    i = i+1 "
   ]
  },
  {
   "cell_type": "code",
   "execution_count": 2,
   "id": "35e476ad-7be8-49d3-a02e-d651d103525c",
   "metadata": {},
   "outputs": [
    {
     "name": "stdout",
     "output_type": "stream",
     "text": [
      "1\n",
      "2\n",
      "3\n",
      "4\n",
      "5\n",
      "yes this is my else\n"
     ]
    }
   ],
   "source": [
    "n = 6\n",
    "i = 1\n",
    "while i < n :\n",
    "    print(i)\n",
    "    i = i+1 \n",
    "else :\n",
    "    print(\"yes this is my else\")"
   ]
  },
  {
   "cell_type": "code",
   "execution_count": 12,
   "id": "e5e82eb3-68cc-4e91-84a9-f43208bb8791",
   "metadata": {},
   "outputs": [
    {
     "name": "stdout",
     "output_type": "stream",
     "text": [
      "1\n",
      "2\n",
      "3\n",
      "4\n"
     ]
    }
   ],
   "source": [
    "n = 6\n",
    "i = 1\n",
    "while i < n :\n",
    "    print(i)\n",
    "    i = i+1\n",
    "    if i == 5 :\n",
    "        break \n",
    "else :\n",
    "    print(\"this is my else\")"
   ]
  },
  {
   "cell_type": "code",
   "execution_count": 18,
   "id": "92d6abd3-ca15-41ba-9e33-5f4c996592ee",
   "metadata": {},
   "outputs": [
    {
     "name": "stdout",
     "output_type": "stream",
     "text": [
      "a\n",
      "m\n",
      "i\n",
      "t\n",
      "k\n",
      "u\n",
      "m\n",
      "a\n",
      "r\n"
     ]
    }
   ],
   "source": [
    "s = \"amitkumar\"\n",
    "for i in s :\n",
    "    print(i)"
   ]
  },
  {
   "cell_type": "code",
   "execution_count": 19,
   "id": "e56010cf-d5eb-42a4-861c-882f9b1c91be",
   "metadata": {},
   "outputs": [
    {
     "name": "stdout",
     "output_type": "stream",
     "text": [
      "a\n",
      "m\n",
      "i\n",
      "t\n"
     ]
    }
   ],
   "source": [
    "s = \"amit\"\n",
    "for name in s :\n",
    "    print(name)"
   ]
  },
  {
   "cell_type": "code",
   "execution_count": 20,
   "id": "8dc7eab3-fa87-4109-81fc-45201faf8739",
   "metadata": {},
   "outputs": [],
   "source": [
    "l = [1,2,3,4,5, \"amit\", \"kumar\", 36.987, True, 4+5j]"
   ]
  },
  {
   "cell_type": "code",
   "execution_count": 22,
   "id": "e7788766-2129-4f6e-8c78-60c668f1c926",
   "metadata": {},
   "outputs": [
    {
     "name": "stdout",
     "output_type": "stream",
     "text": [
      "<class 'int'>\n",
      "<class 'int'>\n",
      "<class 'int'>\n",
      "<class 'int'>\n",
      "<class 'int'>\n",
      "<class 'str'>\n",
      "<class 'str'>\n",
      "<class 'float'>\n",
      "<class 'bool'>\n",
      "<class 'complex'>\n"
     ]
    }
   ],
   "source": [
    "for i in l :\n",
    "    print(type(i))"
   ]
  },
  {
   "cell_type": "code",
   "execution_count": 28,
   "id": "d9aaea6b-0202-449d-a385-cde7e9a9bd63",
   "metadata": {},
   "outputs": [
    {
     "name": "stdout",
     "output_type": "stream",
     "text": [
      "<class 'int'>\n",
      "<class 'int'>\n",
      "<class 'int'>\n",
      "<class 'int'>\n",
      "<class 'int'>\n",
      "<class 'str'>\n",
      "<class 'str'>\n",
      "<class 'float'>\n",
      "<class 'bool'>\n",
      "<class 'complex'>\n",
      "your execuation has been done!\n"
     ]
    }
   ],
   "source": [
    "for i in l :\n",
    "    print(type(i)) \n",
    "else :\n",
    "    print(\"your execuation has been done!\")"
   ]
  },
  {
   "cell_type": "code",
   "execution_count": 29,
   "id": "99e3213c-8d14-4bd0-a041-46022af457d1",
   "metadata": {},
   "outputs": [
    {
     "name": "stdout",
     "output_type": "stream",
     "text": [
      "<class 'int'>\n",
      "<class 'int'>\n",
      "<class 'int'>\n",
      "<class 'int'>\n",
      "<class 'int'>\n"
     ]
    }
   ],
   "source": [
    "for i in l :\n",
    "    print(type(i)) \n",
    "    if i == 5 :\n",
    "        break\n",
    "else :\n",
    "    print(\"your execuation has been done!\")"
   ]
  },
  {
   "cell_type": "code",
   "execution_count": 30,
   "id": "de1c4184-71c9-4397-af63-61e295bf7e2f",
   "metadata": {},
   "outputs": [
    {
     "data": {
      "text/plain": [
       "[1, 2, 3, 4, 5, 'amit', 'kumar', 36.987, True, (4+5j)]"
      ]
     },
     "execution_count": 30,
     "metadata": {},
     "output_type": "execute_result"
    }
   ],
   "source": [
    "l"
   ]
  },
  {
   "cell_type": "code",
   "execution_count": 31,
   "id": "e60c262b-621a-426f-a33c-02af3e38d41a",
   "metadata": {},
   "outputs": [
    {
     "name": "stdout",
     "output_type": "stream",
     "text": [
      "<class 'int'>\n",
      "<class 'int'>\n",
      "<class 'int'>\n",
      "<class 'int'>\n",
      "<class 'int'>\n",
      "<class 'str'>\n",
      "<class 'str'>\n",
      "<class 'float'>\n",
      "<class 'bool'>\n",
      "<class 'complex'>\n",
      "your execuation has been done!\n"
     ]
    }
   ],
   "source": [
    "for i in l :\n",
    "    print(type(i)) \n",
    "    if i == 5 :\n",
    "        continue \n",
    "else :\n",
    "    print(\"your execuation has been done!\")"
   ]
  },
  {
   "cell_type": "code",
   "execution_count": 32,
   "id": "35d3da84-6c81-4abd-b770-ad19f8bbb02c",
   "metadata": {},
   "outputs": [
    {
     "name": "stdout",
     "output_type": "stream",
     "text": [
      "<class 'int'>\n",
      "<class 'int'>\n",
      "<class 'int'>\n",
      "<class 'int'>\n",
      "<class 'int'>\n",
      "<class 'str'>\n",
      "<class 'str'>\n",
      "<class 'float'>\n",
      "<class 'bool'>\n",
      "<class 'complex'>\n",
      "your execuation has been done!\n"
     ]
    }
   ],
   "source": [
    "for i in l :\n",
    "    print(type(i)) \n",
    "    if i == 5 :\n",
    "        continue \n",
    "        print(i)\n",
    "else :\n",
    "    print(\"your execuation has been done!\")"
   ]
  },
  {
   "cell_type": "code",
   "execution_count": 33,
   "id": "086c6cbc-cd82-4a10-b6c5-e1041f7e1f71",
   "metadata": {},
   "outputs": [
    {
     "data": {
      "text/plain": [
       "range(0, 15)"
      ]
     },
     "execution_count": 33,
     "metadata": {},
     "output_type": "execute_result"
    }
   ],
   "source": [
    "range(15)"
   ]
  },
  {
   "cell_type": "code",
   "execution_count": 34,
   "id": "13ec36f3-6f41-452e-a123-19a35040ad1b",
   "metadata": {},
   "outputs": [
    {
     "data": {
      "text/plain": [
       "[0, 1, 2, 3, 4, 5, 6, 7, 8, 9, 10, 11, 12, 13, 14]"
      ]
     },
     "execution_count": 34,
     "metadata": {},
     "output_type": "execute_result"
    }
   ],
   "source": [
    "list(range(15))"
   ]
  },
  {
   "cell_type": "code",
   "execution_count": 36,
   "id": "15f52240-3c68-416e-8d77-ba3ec22829d4",
   "metadata": {},
   "outputs": [
    {
     "name": "stdout",
     "output_type": "stream",
     "text": [
      "0\n",
      "1\n",
      "2\n",
      "3\n",
      "4\n",
      "5\n",
      "6\n",
      "7\n",
      "8\n",
      "9\n",
      "10\n",
      "11\n",
      "12\n",
      "13\n",
      "14\n"
     ]
    }
   ],
   "source": [
    "for i in range(15) :\n",
    "    print(i)"
   ]
  },
  {
   "cell_type": "code",
   "execution_count": null,
   "id": "57296262-80cb-4d72-816d-b5b6a075f604",
   "metadata": {},
   "outputs": [],
   "source": []
  }
 ],
 "metadata": {
  "kernelspec": {
   "display_name": "Python 3 (ipykernel)",
   "language": "python",
   "name": "python3"
  },
  "language_info": {
   "codemirror_mode": {
    "name": "ipython",
    "version": 3
   },
   "file_extension": ".py",
   "mimetype": "text/x-python",
   "name": "python",
   "nbconvert_exporter": "python",
   "pygments_lexer": "ipython3",
   "version": "3.10.8"
  }
 },
 "nbformat": 4,
 "nbformat_minor": 5
}
